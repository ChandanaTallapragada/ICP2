{
  "nbformat": 4,
  "nbformat_minor": 0,
  "metadata": {
    "colab": {
      "provenance": [],
      "authorship_tag": "ABX9TyPd3fugKmQvZZQA1pcDpa4U"
    },
    "kernelspec": {
      "name": "python3",
      "display_name": "Python 3"
    },
    "language_info": {
      "name": "python"
    }
  },
  "cells": [
    {
      "cell_type": "code",
      "execution_count": 1,
      "metadata": {
        "colab": {
          "base_uri": "https://localhost:8080/"
        },
        "id": "VyInXz89CBG_",
        "outputId": "01af5178-0260-4fab-fdd8-a23cd6887944"
      },
      "outputs": [
        {
          "output_type": "stream",
          "name": "stdout",
          "text": [
            "Average Salary: 60000.0\n",
            "Total no.of Employees: 5\n",
            "Total no.of Full Time Employees: 3\n"
          ]
        }
      ],
      "source": [
        "class Employee:\n",
        "    # Class variable to count the number of employees\n",
        "    employee_count = 0\n",
        "    total_salary = 0\n",
        "\n",
        "    def __init__(self, name, family, salary, department):\n",
        "        # Initializing the instance variables\n",
        "        self.name = name\n",
        "        self.family = family\n",
        "        self.salary = salary\n",
        "        self.department = department\n",
        "\n",
        "        # Incrementing the total count of employees and total salary, whenever a new employee created.\n",
        "        Employee.employee_count += 1\n",
        "        Employee.total_salary += salary\n",
        "\n",
        "    @classmethod\n",
        "    def average_salary(cls):\n",
        "        # Method to calculate the average salary.\n",
        "        if cls.employee_count == 0:\n",
        "            # return zero Since the employee count is Zero.\n",
        "            return 0\n",
        "        # return the avg. (total salary of employees)/(total no.of employees)\n",
        "        return cls.total_salary / cls.employee_count\n",
        "\n",
        "\n",
        "# Fulltime Employee class inheriting from Employee\n",
        "class FulltimeEmployee(Employee):\n",
        "\n",
        "    fulltime_Employee_count = 0\n",
        "\n",
        "    def __init__(self, name, family, salary, department):\n",
        "        # Calling the constructor of the parent class\n",
        "        super().__init__(name, family, salary, department)\n",
        "\n",
        "        FulltimeEmployee.fulltime_Employee_count += 1\n",
        "\n",
        "\n",
        "# Creating instances of Employee and FulltimeEmployee\n",
        "emp1 = Employee(\"Chandana\", \"Tallapragada\", 40000, \"Team Lead\")\n",
        "emp2 = Employee(\"Chiranjeevi\", \"Konidela\", 50000, \"Architect\")\n",
        "emp3 = FulltimeEmployee(\"Eswar\", \"Kandula\", 60000, \"Development\")\n",
        "emp4 = FulltimeEmployee(\"Sharmila\", \"Bhogadhi\", 70000, \"HR\")\n",
        "emp5 = FulltimeEmployee(\"Pawan Kalyan\", \"Konidela\", 80000, \"Manager\")\n",
        "\n",
        "# Print the average salary\n",
        "print(f\"Average Salary: {Employee.average_salary()}\")\n",
        "\n",
        "# Print the total number of employees\n",
        "print(f\"Total no.of Employees: {Employee.employee_count}\")\n",
        "\n",
        "# Print the total number of full time employees\n",
        "print(f\"Total no.of Full Time Employees: {FulltimeEmployee.fulltime_Employee_count}\")\n"
      ]
    },
    {
      "cell_type": "code",
      "source": [
        "import numpy as np\n",
        "random_vector = np.random.uniform(1, 20, size=20)\n",
        "print(\"Original array:\")\n",
        "print(random_vector)\n",
        "\n",
        "reshaped_array = random_vector.reshape(4, 5)\n",
        "\n",
        "max_indices = np.argmax(reshaped_array, axis=1)\n",
        "\n",
        "reshaped_array[np.arange(4), max_indices] = 0\n",
        "\n",
        "print(\"\\nReshaped array:\")\n",
        "print(reshaped_array)"
      ],
      "metadata": {
        "colab": {
          "base_uri": "https://localhost:8080/"
        },
        "id": "uJKYlD3aDFO6",
        "outputId": "d2730d3a-1091-4721-b0fc-21dbe3f1cb5e"
      },
      "execution_count": 2,
      "outputs": [
        {
          "output_type": "stream",
          "name": "stdout",
          "text": [
            "Original array:\n",
            "[ 4.28240563 15.54048618 18.04241923 19.62915625 15.53760052 15.47915834\n",
            "  2.48247704 19.86425855 16.41071298 14.7470408  19.03915203  7.11929735\n",
            "  6.93798352  8.003037   18.76245838  9.52415922 15.75946278  3.94966538\n",
            " 15.02944705  6.96859833]\n",
            "\n",
            "Reshaped array:\n",
            "[[ 4.28240563 15.54048618 18.04241923  0.         15.53760052]\n",
            " [15.47915834  2.48247704  0.         16.41071298 14.7470408 ]\n",
            " [ 0.          7.11929735  6.93798352  8.003037   18.76245838]\n",
            " [ 9.52415922  0.          3.94966538 15.02944705  6.96859833]]\n"
          ]
        }
      ]
    }
  ]
}